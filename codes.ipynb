{
 "cells": [
  {
   "cell_type": "code",
   "execution_count": 1,
   "id": "2a4862c5-d18e-4b24-a52a-e9e55dde4421",
   "metadata": {},
   "outputs": [
    {
     "name": "stdout",
     "output_type": "stream",
     "text": [
      "[1, 3, 12, 0, 0]\n"
     ]
    }
   ],
   "source": [
    "def moveZeroes(nums):\n",
    "    non_zero_pos = 0  # Pointer to the next position for a non-zero element\n",
    "\n",
    "    # Iterate through the array\n",
    "    for current in range(len(nums)):\n",
    "        if nums[current] != 0:\n",
    "            # Swap non-zero element with the element at non_zero_pos\n",
    "            nums[current], nums[non_zero_pos] = nums[non_zero_pos], nums[current]\n",
    "            non_zero_pos += 1\n",
    "\n",
    "    # Set all elements from non_zero_pos to the end as zero\n",
    "    for i in range(non_zero_pos, len(nums)):\n",
    "        nums[i] = 0\n",
    "nums = [0, 1, 0, 3, 12]\n",
    "moveZeroes(nums)\n",
    "print(nums)\n"
   ]
  },
  {
   "cell_type": "code",
   "execution_count": null,
   "id": "27340168-aaba-4f0f-a162-4bddf130a9fa",
   "metadata": {},
   "outputs": [],
   "source": []
  }
 ],
 "metadata": {
  "kernelspec": {
   "display_name": "Python 3 (ipykernel)",
   "language": "python",
   "name": "python3"
  },
  "language_info": {
   "codemirror_mode": {
    "name": "ipython",
    "version": 3
   },
   "file_extension": ".py",
   "mimetype": "text/x-python",
   "name": "python",
   "nbconvert_exporter": "python",
   "pygments_lexer": "ipython3",
   "version": "3.10.6"
  }
 },
 "nbformat": 4,
 "nbformat_minor": 5
}
